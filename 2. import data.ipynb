{
 "metadata": {
  "language_info": {
   "codemirror_mode": {
    "name": "ipython",
    "version": 3
   },
   "file_extension": ".py",
   "mimetype": "text/x-python",
   "name": "python",
   "nbconvert_exporter": "python",
   "pygments_lexer": "ipython3",
   "version": "3.8.3-final"
  },
  "orig_nbformat": 2,
  "kernelspec": {
   "name": "python3",
   "display_name": "Python 3",
   "language": "python"
  }
 },
 "nbformat": 4,
 "nbformat_minor": 2,
 "cells": [
  {
   "cell_type": "code",
   "execution_count": 4,
   "metadata": {
    "tags": []
   },
   "outputs": [
    {
     "output_type": "stream",
     "name": "stdout",
     "text": [
      "^C\n"
     ]
    }
   ],
   "source": [
    "!pip install --upgrade azureml-sdk azureml-widgets"
   ]
  },
  {
   "cell_type": "code",
   "execution_count": 6,
   "metadata": {},
   "outputs": [
    {
     "output_type": "stream",
     "name": "stdout",
     "text": [
      "Requirement already satisfied: azureml-widgets in c:\\programdata\\anaconda3\\lib\\site-packages (1.19.0)\n",
      "Requirement already satisfied: ipywidgets>=7.0.0 in c:\\programdata\\anaconda3\\lib\\site-packages (from azureml-widgets) (7.5.1)\n",
      "Requirement already satisfied: azureml-telemetry~=1.19.0 in c:\\programdata\\anaconda3\\lib\\site-packages (from azureml-widgets) (1.19.0)\n",
      "Requirement already satisfied: azureml-core~=1.19.0 in c:\\programdata\\anaconda3\\lib\\site-packages (from azureml-widgets) (1.19.0)\n",
      "Requirement already satisfied: nbformat>=4.2.0 in c:\\programdata\\anaconda3\\lib\\site-packages (from ipywidgets>=7.0.0->azureml-widgets) (5.0.7)\n",
      "Requirement already satisfied: traitlets>=4.3.1 in c:\\programdata\\anaconda3\\lib\\site-packages (from ipywidgets>=7.0.0->azureml-widgets) (4.3.3)\n",
      "Requirement already satisfied: ipykernel>=4.5.1 in c:\\programdata\\anaconda3\\lib\\site-packages (from ipywidgets>=7.0.0->azureml-widgets) (5.3.2)\n",
      "Requirement already satisfied: ipython>=4.0.0; python_version >= \"3.3\" in c:\\programdata\\anaconda3\\lib\\site-packages (from ipywidgets>=7.0.0->azureml-widgets) (7.16.1)\n",
      "Requirement already satisfied: widgetsnbextension~=3.5.0 in c:\\programdata\\anaconda3\\lib\\site-packages (from ipywidgets>=7.0.0->azureml-widgets) (3.5.1)\n",
      "Requirement already satisfied: applicationinsights in c:\\programdata\\anaconda3\\lib\\site-packages (from azureml-telemetry~=1.19.0->azureml-widgets) (0.11.9)\n",
      "Requirement already satisfied: ndg-httpsclient in c:\\programdata\\anaconda3\\lib\\site-packages (from azureml-core~=1.19.0->azureml-widgets) (0.5.1)\n",
      "Requirement already satisfied: msrestazure>=0.4.33 in c:\\programdata\\anaconda3\\lib\\site-packages (from azureml-core~=1.19.0->azureml-widgets) (0.6.4)\n",
      "Requirement already satisfied: urllib3>=1.23 in c:\\programdata\\anaconda3\\lib\\site-packages (from azureml-core~=1.19.0->azureml-widgets) (1.25.9)\n",
      "Requirement already satisfied: SecretStorage in c:\\programdata\\anaconda3\\lib\\site-packages (from azureml-core~=1.19.0->azureml-widgets) (3.3.0)\n",
      "Requirement already satisfied: azure-mgmt-containerregistry>=2.0.0 in c:\\programdata\\anaconda3\\lib\\site-packages (from azureml-core~=1.19.0->azureml-widgets) (2.8.0)\n",
      "Requirement already satisfied: jsonpickle in c:\\programdata\\anaconda3\\lib\\site-packages (from azureml-core~=1.19.0->azureml-widgets) (1.4.2)\n",
      "Requirement already satisfied: jmespath in c:\\programdata\\anaconda3\\lib\\site-packages (from azureml-core~=1.19.0->azureml-widgets) (0.10.0)\n",
      "Requirement already satisfied: azure-common>=1.1.12 in c:\\programdata\\anaconda3\\lib\\site-packages (from azureml-core~=1.19.0->azureml-widgets) (1.1.26)\n",
      "Requirement already satisfied: pyopenssl<20.0.0 in c:\\programdata\\anaconda3\\lib\\site-packages (from azureml-core~=1.19.0->azureml-widgets) (19.1.0)\n",
      "Requirement already satisfied: azure-mgmt-authorization<1.0.0,>=0.40.0 in c:\\programdata\\anaconda3\\lib\\site-packages (from azureml-core~=1.19.0->azureml-widgets) (0.61.0)\n",
      "Requirement already satisfied: azure-mgmt-resource<15.0.0,>=1.2.1 in c:\\programdata\\anaconda3\\lib\\site-packages (from azureml-core~=1.19.0->azureml-widgets) (12.0.0)\n",
      "Requirement already satisfied: adal>=1.2.0 in c:\\programdata\\anaconda3\\lib\\site-packages (from azureml-core~=1.19.0->azureml-widgets) (1.2.5)\n",
      "Requirement already satisfied: backports.tempfile in c:\\programdata\\anaconda3\\lib\\site-packages (from azureml-core~=1.19.0->azureml-widgets) (1.0)\n",
      "Requirement already satisfied: azure-mgmt-keyvault<7.0.0,>=0.40.0 in c:\\programdata\\anaconda3\\lib\\site-packages (from azureml-core~=1.19.0->azureml-widgets) (2.2.0)\n",
      "Requirement already satisfied: requests>=2.19.1 in c:\\programdata\\anaconda3\\lib\\site-packages (from azureml-core~=1.19.0->azureml-widgets) (2.24.0)\n",
      "Requirement already satisfied: cryptography!=1.9,!=2.0.*,!=2.1.*,!=2.2.* in c:\\programdata\\anaconda3\\lib\\site-packages (from azureml-core~=1.19.0->azureml-widgets) (2.9.2)\n",
      "Requirement already satisfied: contextlib2 in c:\\programdata\\anaconda3\\lib\\site-packages (from azureml-core~=1.19.0->azureml-widgets) (0.6.0.post1)\n",
      "Requirement already satisfied: docker in c:\\programdata\\anaconda3\\lib\\site-packages (from azureml-core~=1.19.0->azureml-widgets) (4.4.0)\n",
      "Requirement already satisfied: msrest>=0.5.1 in c:\\programdata\\anaconda3\\lib\\site-packages (from azureml-core~=1.19.0->azureml-widgets) (0.6.19)\n",
      "Requirement already satisfied: ruamel.yaml>=0.15.35 in c:\\programdata\\anaconda3\\lib\\site-packages (from azureml-core~=1.19.0->azureml-widgets) (0.16.12)\n",
      "Requirement already satisfied: PyJWT<2.0.0 in c:\\programdata\\anaconda3\\lib\\site-packages (from azureml-core~=1.19.0->azureml-widgets) (1.7.1)\n",
      "Requirement already satisfied: azure-graphrbac<1.0.0,>=0.40.0 in c:\\programdata\\anaconda3\\lib\\site-packages (from azureml-core~=1.19.0->azureml-widgets) (0.61.1)\n",
      "Requirement already satisfied: azure-mgmt-storage<16.0.0,>=1.5.0 in c:\\programdata\\anaconda3\\lib\\site-packages (from azureml-core~=1.19.0->azureml-widgets) (11.2.0)\n",
      "Requirement already satisfied: pytz in c:\\programdata\\anaconda3\\lib\\site-packages (from azureml-core~=1.19.0->azureml-widgets) (2020.1)\n",
      "Requirement already satisfied: pathspec in c:\\programdata\\anaconda3\\lib\\site-packages (from azureml-core~=1.19.0->azureml-widgets) (0.8.1)\n",
      "Requirement already satisfied: python-dateutil>=2.7.3 in c:\\programdata\\anaconda3\\lib\\site-packages (from azureml-core~=1.19.0->azureml-widgets) (2.8.1)\n",
      "Requirement already satisfied: ipython-genutils in c:\\programdata\\anaconda3\\lib\\site-packages (from nbformat>=4.2.0->ipywidgets>=7.0.0->azureml-widgets) (0.2.0)\n",
      "Requirement already satisfied: jupyter-core in c:\\programdata\\anaconda3\\lib\\site-packages (from nbformat>=4.2.0->ipywidgets>=7.0.0->azureml-widgets) (4.6.3)\n",
      "Requirement already satisfied: jsonschema!=2.5.0,>=2.4 in c:\\programdata\\anaconda3\\lib\\site-packages (from nbformat>=4.2.0->ipywidgets>=7.0.0->azureml-widgets) (3.2.0)\n",
      "Requirement already satisfied: decorator in c:\\programdata\\anaconda3\\lib\\site-packages (from traitlets>=4.3.1->ipywidgets>=7.0.0->azureml-widgets) (4.4.2)\n",
      "Requirement already satisfied: six in c:\\programdata\\anaconda3\\lib\\site-packages (from traitlets>=4.3.1->ipywidgets>=7.0.0->azureml-widgets) (1.15.0)\n",
      "Requirement already satisfied: tornado>=4.2 in c:\\programdata\\anaconda3\\lib\\site-packages (from ipykernel>=4.5.1->ipywidgets>=7.0.0->azureml-widgets) (6.0.4)\n",
      "Requirement already satisfied: jupyter-client in c:\\programdata\\anaconda3\\lib\\site-packages (from ipykernel>=4.5.1->ipywidgets>=7.0.0->azureml-widgets) (6.1.6)\n",
      "Requirement already satisfied: setuptools>=18.5 in c:\\programdata\\anaconda3\\lib\\site-packages (from ipython>=4.0.0; python_version >= \"3.3\"->ipywidgets>=7.0.0->azureml-widgets) (49.2.0.post20200714)\n",
      "Requirement already satisfied: backcall in c:\\programdata\\anaconda3\\lib\\site-packages (from ipython>=4.0.0; python_version >= \"3.3\"->ipywidgets>=7.0.0->azureml-widgets) (0.2.0)\n",
      "Requirement already satisfied: prompt-toolkit!=3.0.0,!=3.0.1,<3.1.0,>=2.0.0 in c:\\programdata\\anaconda3\\lib\\site-packages (from ipython>=4.0.0; python_version >= \"3.3\"->ipywidgets>=7.0.0->azureml-widgets) (3.0.5)\n",
      "Requirement already satisfied: jedi>=0.10 in c:\\programdata\\anaconda3\\lib\\site-packages (from ipython>=4.0.0; python_version >= \"3.3\"->ipywidgets>=7.0.0->azureml-widgets) (0.17.1)\n",
      "Requirement already satisfied: colorama; sys_platform == \"win32\" in c:\\programdata\\anaconda3\\lib\\site-packages (from ipython>=4.0.0; python_version >= \"3.3\"->ipywidgets>=7.0.0->azureml-widgets) (0.4.3)\n",
      "Requirement already satisfied: pickleshare in c:\\programdata\\anaconda3\\lib\\site-packages (from ipython>=4.0.0; python_version >= \"3.3\"->ipywidgets>=7.0.0->azureml-widgets) (0.7.5)\n",
      "Requirement already satisfied: pygments in c:\\programdata\\anaconda3\\lib\\site-packages (from ipython>=4.0.0; python_version >= \"3.3\"->ipywidgets>=7.0.0->azureml-widgets) (2.6.1)\n",
      "Requirement already satisfied: notebook>=4.4.1 in c:\\programdata\\anaconda3\\lib\\site-packages (from widgetsnbextension~=3.5.0->ipywidgets>=7.0.0->azureml-widgets) (6.0.3)\n",
      "Requirement already satisfied: pyasn1>=0.1.1 in c:\\programdata\\anaconda3\\lib\\site-packages (from ndg-httpsclient->azureml-core~=1.19.0->azureml-widgets) (0.4.8)\n",
      "Requirement already satisfied: jeepney>=0.6 in c:\\programdata\\anaconda3\\lib\\site-packages (from SecretStorage->azureml-core~=1.19.0->azureml-widgets) (0.6.0)\n",
      "Requirement already satisfied: backports.weakref in c:\\programdata\\anaconda3\\lib\\site-packages (from backports.tempfile->azureml-core~=1.19.0->azureml-widgets) (1.0.post1)\n",
      "Requirement already satisfied: idna<3,>=2.5 in c:\\programdata\\anaconda3\\lib\\site-packages (from requests>=2.19.1->azureml-core~=1.19.0->azureml-widgets) (2.10)\n",
      "Requirement already satisfied: certifi>=2017.4.17 in c:\\programdata\\anaconda3\\lib\\site-packages (from requests>=2.19.1->azureml-core~=1.19.0->azureml-widgets) (2020.6.20)\n",
      "Requirement already satisfied: chardet<4,>=3.0.2 in c:\\programdata\\anaconda3\\lib\\site-packages (from requests>=2.19.1->azureml-core~=1.19.0->azureml-widgets) (3.0.4)\n",
      "Requirement already satisfied: cffi!=1.11.3,>=1.8 in c:\\programdata\\anaconda3\\lib\\site-packages (from cryptography!=1.9,!=2.0.*,!=2.1.*,!=2.2.*->azureml-core~=1.19.0->azureml-widgets) (1.14.0)\n",
      "Requirement already satisfied: websocket-client>=0.32.0 in c:\\programdata\\anaconda3\\lib\\site-packages (from docker->azureml-core~=1.19.0->azureml-widgets) (0.57.0)\n",
      "Requirement already satisfied: pywin32==227; sys_platform == \"win32\" in c:\\programdata\\anaconda3\\lib\\site-packages (from docker->azureml-core~=1.19.0->azureml-widgets) (227)\n",
      "Requirement already satisfied: isodate>=0.6.0 in c:\\programdata\\anaconda3\\lib\\site-packages (from msrest>=0.5.1->azureml-core~=1.19.0->azureml-widgets) (0.6.0)\n",
      "Requirement already satisfied: requests-oauthlib>=0.5.0 in c:\\programdata\\anaconda3\\lib\\site-packages (from msrest>=0.5.1->azureml-core~=1.19.0->azureml-widgets) (1.3.0)\n",
      "Requirement already satisfied: ruamel.yaml.clib>=0.1.2; platform_python_implementation == \"CPython\" and python_version < \"3.9\" in c:\\programdata\\anaconda3\\lib\\site-packages (from ruamel.yaml>=0.15.35->azureml-core~=1.19.0->azureml-widgets) (0.2.2)\n",
      "Requirement already satisfied: attrs>=17.4.0 in c:\\programdata\\anaconda3\\lib\\site-packages (from jsonschema!=2.5.0,>=2.4->nbformat>=4.2.0->ipywidgets>=7.0.0->azureml-widgets) (19.3.0)\n",
      "Requirement already satisfied: pyrsistent>=0.14.0 in c:\\programdata\\anaconda3\\lib\\site-packages (from jsonschema!=2.5.0,>=2.4->nbformat>=4.2.0->ipywidgets>=7.0.0->azureml-widgets) (0.16.0)\n",
      "Requirement already satisfied: pyzmq>=13 in c:\\programdata\\anaconda3\\lib\\site-packages (from jupyter-client->ipykernel>=4.5.1->ipywidgets>=7.0.0->azureml-widgets) (19.0.1)\n",
      "Requirement already satisfied: wcwidth in c:\\programdata\\anaconda3\\lib\\site-packages (from prompt-toolkit!=3.0.0,!=3.0.1,<3.1.0,>=2.0.0->ipython>=4.0.0; python_version >= \"3.3\"->ipywidgets>=7.0.0->azureml-widgets) (0.2.5)\n",
      "Requirement already satisfied: parso<0.8.0,>=0.7.0 in c:\\programdata\\anaconda3\\lib\\site-packages (from jedi>=0.10->ipython>=4.0.0; python_version >= \"3.3\"->ipywidgets>=7.0.0->azureml-widgets) (0.7.0)\n",
      "Requirement already satisfied: jinja2 in c:\\programdata\\anaconda3\\lib\\site-packages (from notebook>=4.4.1->widgetsnbextension~=3.5.0->ipywidgets>=7.0.0->azureml-widgets) (2.11.2)\n",
      "Requirement already satisfied: Send2Trash in c:\\programdata\\anaconda3\\lib\\site-packages (from notebook>=4.4.1->widgetsnbextension~=3.5.0->ipywidgets>=7.0.0->azureml-widgets) (1.5.0)\n",
      "Requirement already satisfied: nbconvert in c:\\programdata\\anaconda3\\lib\\site-packages (from notebook>=4.4.1->widgetsnbextension~=3.5.0->ipywidgets>=7.0.0->azureml-widgets) (5.6.1)\n",
      "Requirement already satisfied: terminado>=0.8.1 in c:\\programdata\\anaconda3\\lib\\site-packages (from notebook>=4.4.1->widgetsnbextension~=3.5.0->ipywidgets>=7.0.0->azureml-widgets) (0.8.3)\n",
      "Requirement already satisfied: prometheus-client in c:\\programdata\\anaconda3\\lib\\site-packages (from notebook>=4.4.1->widgetsnbextension~=3.5.0->ipywidgets>=7.0.0->azureml-widgets) (0.8.0)\n",
      "Requirement already satisfied: pycparser in c:\\programdata\\anaconda3\\lib\\site-packages (from cffi!=1.11.3,>=1.8->cryptography!=1.9,!=2.0.*,!=2.1.*,!=2.2.*->azureml-core~=1.19.0->azureml-widgets) (2.20)\n",
      "Requirement already satisfied: oauthlib>=3.0.0 in c:\\programdata\\anaconda3\\lib\\site-packages (from requests-oauthlib>=0.5.0->msrest>=0.5.1->azureml-core~=1.19.0->azureml-widgets) (3.1.0)\n",
      "Requirement already satisfied: MarkupSafe>=0.23 in c:\\programdata\\anaconda3\\lib\\site-packages (from jinja2->notebook>=4.4.1->widgetsnbextension~=3.5.0->ipywidgets>=7.0.0->azureml-widgets) (1.1.1)\n",
      "Requirement already satisfied: mistune<2,>=0.8.1 in c:\\programdata\\anaconda3\\lib\\site-packages (from nbconvert->notebook>=4.4.1->widgetsnbextension~=3.5.0->ipywidgets>=7.0.0->azureml-widgets) (0.8.4)\n",
      "Requirement already satisfied: testpath in c:\\programdata\\anaconda3\\lib\\site-packages (from nbconvert->notebook>=4.4.1->widgetsnbextension~=3.5.0->ipywidgets>=7.0.0->azureml-widgets) (0.4.4)\n",
      "Requirement already satisfied: bleach in c:\\programdata\\anaconda3\\lib\\site-packages (from nbconvert->notebook>=4.4.1->widgetsnbextension~=3.5.0->ipywidgets>=7.0.0->azureml-widgets) (3.1.5)\n",
      "Requirement already satisfied: pandocfilters>=1.4.1 in c:\\programdata\\anaconda3\\lib\\site-packages (from nbconvert->notebook>=4.4.1->widgetsnbextension~=3.5.0->ipywidgets>=7.0.0->azureml-widgets) (1.4.2)\n",
      "Requirement already satisfied: defusedxml in c:\\programdata\\anaconda3\\lib\\site-packages (from nbconvert->notebook>=4.4.1->widgetsnbextension~=3.5.0->ipywidgets>=7.0.0->azureml-widgets) (0.6.0)\n",
      "Requirement already satisfied: entrypoints>=0.2.2 in c:\\programdata\\anaconda3\\lib\\site-packages (from nbconvert->notebook>=4.4.1->widgetsnbextension~=3.5.0->ipywidgets>=7.0.0->azureml-widgets) (0.3)\n",
      "Requirement already satisfied: packaging in c:\\programdata\\anaconda3\\lib\\site-packages (from bleach->nbconvert->notebook>=4.4.1->widgetsnbextension~=3.5.0->ipywidgets>=7.0.0->azureml-widgets) (20.4)\n",
      "Requirement already satisfied: webencodings in c:\\programdata\\anaconda3\\lib\\site-packages (from bleach->nbconvert->notebook>=4.4.1->widgetsnbextension~=3.5.0->ipywidgets>=7.0.0->azureml-widgets) (0.5.1)\n",
      "Requirement already satisfied: pyparsing>=2.0.2 in c:\\programdata\\anaconda3\\lib\\site-packages (from packaging->bleach->nbconvert->notebook>=4.4.1->widgetsnbextension~=3.5.0->ipywidgets>=7.0.0->azureml-widgets) (2.4.7)\n"
     ]
    }
   ],
   "source": [
    "!pip install azureml-widgets"
   ]
  },
  {
   "cell_type": "code",
   "execution_count": 5,
   "metadata": {
    "tags": [
     "outputPrepend"
    ]
   },
   "outputs": [
    {
     "output_type": "stream",
     "name": "stdout",
     "text": [
      "ipython>=4.0.0; python_version >= \"3.3\"->ipywidgets>=7.0.0->azureml-widgets) (0.2.5)\n",
      "Collecting portalocker~=1.6; platform_system == \"Windows\"\n",
      "  Downloading portalocker-1.7.1-py2.py3-none-any.whl (10 kB)\n",
      "Requirement already satisfied, skipping upgrade: MarkupSafe>=0.23 in c:\\programdata\\anaconda3\\lib\\site-packages (from jinja2->notebook>=4.4.1->widgetsnbextension~=3.5.0->ipywidgets>=7.0.0->azureml-widgets) (1.1.1)\n",
      "Requirement already satisfied, skipping upgrade: entrypoints>=0.2.2 in c:\\programdata\\anaconda3\\lib\\site-packages (from nbconvert->notebook>=4.4.1->widgetsnbextension~=3.5.0->ipywidgets>=7.0.0->azureml-widgets) (0.3)\n",
      "Requirement already satisfied, skipping upgrade: bleach in c:\\programdata\\anaconda3\\lib\\site-packages (from nbconvert->notebook>=4.4.1->widgetsnbextension~=3.5.0->ipywidgets>=7.0.0->azureml-widgets) (3.1.5)\n",
      "Requirement already satisfied, skipping upgrade: testpath in c:\\programdata\\anaconda3\\lib\\site-packages (from nbconvert->notebook>=4.4.1->widgetsnbextension~=3.5.0->ipywidgets>=7.0.0->azureml-widgets) (0.4.4)\n",
      "Requirement already satisfied, skipping upgrade: defusedxml in c:\\programdata\\anaconda3\\lib\\site-packages (from nbconvert->notebook>=4.4.1->widgetsnbextension~=3.5.0->ipywidgets>=7.0.0->azureml-widgets) (0.6.0)\n",
      "Requirement already satisfied, skipping upgrade: pandocfilters>=1.4.1 in c:\\programdata\\anaconda3\\lib\\site-packages (from nbconvert->notebook>=4.4.1->widgetsnbextension~=3.5.0->ipywidgets>=7.0.0->azureml-widgets) (1.4.2)\n",
      "Requirement already satisfied, skipping upgrade: mistune<2,>=0.8.1 in c:\\programdata\\anaconda3\\lib\\site-packages (from nbconvert->notebook>=4.4.1->widgetsnbextension~=3.5.0->ipywidgets>=7.0.0->azureml-widgets) (0.8.4)\n",
      "Requirement already satisfied, skipping upgrade: packaging in c:\\programdata\\anaconda3\\lib\\site-packages (from bleach->nbconvert->notebook>=4.4.1->widgetsnbextension~=3.5.0->ipywidgets>=7.0.0->azureml-widgets) (20.4)\n",
      "Requirement already satisfied, skipping upgrade: webencodings in c:\\programdata\\anaconda3\\lib\\site-packages (from bleach->nbconvert->notebook>=4.4.1->widgetsnbextension~=3.5.0->ipywidgets>=7.0.0->azureml-widgets) (0.5.1)\n",
      "Requirement already satisfied, skipping upgrade: pyparsing>=2.0.2 in c:\\programdata\\anaconda3\\lib\\site-packages (from packaging->bleach->nbconvert->notebook>=4.4.1->widgetsnbextension~=3.5.0->ipywidgets>=7.0.0->azureml-widgets) (2.4.7)\n",
      "Building wheels for collected packages: fusepy\n",
      "  Building wheel for fusepy (setup.py): started\n",
      "  Building wheel for fusepy (setup.py): finished with status 'done'\n",
      "  Created wheel for fusepy: filename=fusepy-3.0.1-py3-none-any.whl size=10507 sha256=6a74c06384c361b10858aa94565f2b0a9ed59fa606c09a49a131e016ac6e6002\n",
      "  Stored in directory: c:\\users\\kelvi\\appdata\\local\\pip\\cache\\wheels\\7f\\41\\10\\f70b83a1164fdb95e7bc37bace13114a024227e56c2fee02bb\n",
      "Successfully built fusepy\n",
      "Installing collected packages: pyarrow, azureml-dataprep-rslex, PyJWT, msal, portalocker, msal-extensions, azure-core, azure-identity, distro, dotnetcore2, azureml-dataprep-native, azureml-dataprep, fusepy, azureml-dataset-runtime, isodate, oauthlib, requests-oauthlib, msrest, azure-common, adal, msrestazure, azure-mgmt-containerregistry, azure-mgmt-keyvault, jsonpickle, azure-mgmt-resource, websocket-client, docker, pyasn1, ndg-httpsclient, jeepney, SecretStorage, azure-graphrbac, azure-mgmt-storage, ruamel.yaml.clib, ruamel.yaml, pathspec, jmespath, azure-mgmt-authorization, azureml-core, applicationinsights, azureml-telemetry, azureml-automl-core, azureml-train-automl-client, azureml-pipeline-core, azureml-train-restclients-hyperdrive, azureml-train-core, azureml-pipeline-steps, azureml-pipeline, azureml-train, azureml-sdk, azureml-widgets\n",
      "Successfully installed PyJWT-1.7.1 SecretStorage-3.3.0 adal-1.2.5 applicationinsights-0.11.9 azure-common-1.1.26 azure-core-1.9.0 azure-graphrbac-0.61.1 azure-identity-1.4.1 azure-mgmt-authorization-0.61.0 azure-mgmt-containerregistry-2.8.0 azure-mgmt-keyvault-2.2.0 azure-mgmt-resource-12.0.0 azure-mgmt-storage-11.2.0 azureml-automl-core-1.19.0 azureml-core-1.19.0 azureml-dataprep-2.6.3 azureml-dataprep-native-26.0.0 azureml-dataprep-rslex-1.4.0 azureml-dataset-runtime-1.19.0 azureml-pipeline-1.19.0 azureml-pipeline-core-1.19.0 azureml-pipeline-steps-1.19.0 azureml-sdk-1.19.0 azureml-telemetry-1.19.0 azureml-train-1.19.0 azureml-train-automl-client-1.19.0 azureml-train-core-1.19.0 azureml-train-restclients-hyperdrive-1.19.0 azureml-widgets-1.19.0 distro-1.5.0 docker-4.4.0 dotnetcore2-2.1.20 fusepy-3.0.1 isodate-0.6.0 jeepney-0.6.0 jmespath-0.10.0 jsonpickle-1.4.2 msal-1.8.0 msal-extensions-0.2.2 msrest-0.6.19 msrestazure-0.6.4 ndg-httpsclient-0.5.1 oauthlib-3.1.0 pathspec-0.8.1 portalocker-1.7.1 pyarrow-1.0.1 pyasn1-0.4.8 requests-oauthlib-1.3.0 ruamel.yaml-0.16.12 ruamel.yaml.clib-0.2.2 websocket-client-0.57.0\n",
      "  WARNING: The script plasma_store.exe is installed in 'C:\\ProgramData\\Anaconda3\\Scripts' which is not on PATH.\n",
      "  Consider adding this directory to PATH or, if you prefer to suppress this warning, use --no-warn-script-location.\n",
      "  WARNING: The script pyjwt.exe is installed in 'C:\\ProgramData\\Anaconda3\\Scripts' which is not on PATH.\n",
      "  Consider adding this directory to PATH or, if you prefer to suppress this warning, use --no-warn-script-location.\n",
      "  WARNING: The script distro.exe is installed in 'C:\\ProgramData\\Anaconda3\\Scripts' which is not on PATH.\n",
      "  Consider adding this directory to PATH or, if you prefer to suppress this warning, use --no-warn-script-location.\n",
      "  WARNING: The script azmldprep.exe is installed in 'C:\\ProgramData\\Anaconda3\\Scripts' which is not on PATH.\n",
      "  Consider adding this directory to PATH or, if you prefer to suppress this warning, use --no-warn-script-location.\n",
      "  WARNING: The script ndg_httpclient.exe is installed in 'C:\\ProgramData\\Anaconda3\\Scripts' which is not on PATH.\n",
      "  Consider adding this directory to PATH or, if you prefer to suppress this warning, use --no-warn-script-location.\n",
      "  WARNING: The script azml.exe is installed in 'C:\\ProgramData\\Anaconda3\\Scripts' which is not on PATH.\n",
      "  Consider adding this directory to PATH or, if you prefer to suppress this warning, use --no-warn-script-location.\n",
      "Collecting azureml-sdk\n",
      "  Using cached azureml_sdk-1.19.0-py3-none-any.whl (4.4 kB)\n",
      "Collecting azureml-core~=1.19.0\n",
      "  Using cached azureml_core-1.19.0-py3-none-any.whl (2.1 MB)\n",
      "Collecting azureml-dataset-runtime[fuse]~=1.19.0\n",
      "  Using cached azureml_dataset_runtime-1.19.0-py3-none-any.whl (3.4 kB)\n",
      "Collecting azureml-train~=1.19.0\n",
      "  Using cached azureml_train-1.19.0-py3-none-any.whl (3.3 kB)\n",
      "Collecting azureml-pipeline~=1.19.0\n",
      "  Using cached azureml_pipeline-1.19.0-py3-none-any.whl (3.7 kB)\n",
      "Collecting azureml-train-automl-client~=1.19.0\n",
      "  Using cached azureml_train_automl_client-1.19.0-py3-none-any.whl (109 kB)\n",
      "Collecting jmespath\n",
      "  Using cached jmespath-0.10.0-py2.py3-none-any.whl (24 kB)\n",
      "Collecting azure-mgmt-containerregistry>=2.0.0\n",
      "  Using cached azure_mgmt_containerregistry-2.8.0-py2.py3-none-any.whl (718 kB)\n",
      "Collecting ruamel.yaml>=0.15.35\n",
      "ERROR: azure-mgmt-containerregistry 2.8.0 requires azure-common~=1.1, which is not installed.\n",
      "ERROR: azure-mgmt-containerregistry 2.8.0 requires msrest>=0.5.0, which is not installed.\n",
      "ERROR: azure-mgmt-containerregistry 2.8.0 requires msrestazure<2.0.0,>=0.4.32, which is not installed.\n",
      "ERROR: azure-mgmt-resource 12.0.0 requires azure-common~=1.1, which is not installed.\n",
      "ERROR: azure-mgmt-resource 12.0.0 requires msrest>=0.5.0, which is not installed.\n",
      "ERROR: azure-mgmt-resource 12.0.0 requires msrestazure<2.0.0,>=0.4.32, which is not installed.\n",
      "ERROR: azure-mgmt-keyvault 2.2.0 requires azure-common~=1.1, which is not installed.\n",
      "ERROR: azure-mgmt-keyvault 2.2.0 requires msrest>=0.5.0, which is not installed.\n",
      "ERROR: azure-mgmt-keyvault 2.2.0 requires msrestazure<2.0.0,>=0.4.32, which is not installed.\n",
      "ERROR: azure-graphrbac 0.61.1 requires azure-common~=1.1, which is not installed.\n",
      "ERROR: azure-graphrbac 0.61.1 requires msrest>=0.5.0, which is not installed.\n",
      "ERROR: azure-graphrbac 0.61.1 requires msrestazure<2.0.0,>=0.4.32, which is not installed.\n",
      "ERROR: azure-mgmt-storage 11.2.0 requires azure-common~=1.1, which is not installed.\n",
      "ERROR: azure-mgmt-storage 11.2.0 requires msrest>=0.5.0, which is not installed.\n",
      "ERROR: azure-mgmt-storage 11.2.0 requires msrestazure<2.0.0,>=0.4.32, which is not installed.\n",
      "ERROR: azure-mgmt-authorization 0.61.0 requires azure-common~=1.1, which is not installed.\n",
      "ERROR: azure-mgmt-authorization 0.61.0 requires msrest>=0.5.0, which is not installed.\n",
      "ERROR: azure-mgmt-authorization 0.61.0 requires msrestazure<2.0.0,>=0.4.32, which is not installed.\n",
      "ERROR: azureml-core 1.19.0 requires adal>=1.2.0, which is not installed.\n",
      "ERROR: azureml-core 1.19.0 requires azure-common>=1.1.12, which is not installed.\n",
      "ERROR: azureml-core 1.19.0 requires msrest>=0.5.1, which is not installed.\n",
      "ERROR: azureml-core 1.19.0 requires msrestazure>=0.4.33, which is not installed.\n",
      "ERROR: azureml-dataset-runtime 1.19.0 requires azureml-dataprep<2.7.0a,>=2.6.0a, which is not installed.\n",
      "ERROR: azureml-train-restclients-hyperdrive 1.19.0 requires msrest>=0.5.1, which is not installed.\n",
      "ERROR: azureml-train-restclients-hyperdrive 1.19.0 requires msrestazure>=0.4.33, which is not installed.\n",
      "  WARNING: The script ndg_httpclient.exe is installed in 'C:\\ProgramData\\Anaconda3\\Scripts' which is not on PATH.\n",
      "  Consider adding this directory to PATH or, if you prefer to suppress this warning, use --no-warn-script-location.\n",
      "  WARNING: The script azml.exe is installed in 'C:\\ProgramData\\Anaconda3\\Scripts' which is not on PATH.\n",
      "  Consider adding this directory to PATH or, if you prefer to suppress this warning, use --no-warn-script-location.\n",
      "  Using cached ruamel.yaml-0.16.12-py2.py3-none-any.whl (111 kB)\n",
      "Requirement already satisfied: pytz in c:\\programdata\\anaconda3\\lib\\site-packages (from azureml-core~=1.19.0->azureml-sdk) (2020.1)\n",
      "Collecting pathspec\n",
      "  Using cached pathspec-0.8.1-py2.py3-none-any.whl (28 kB)\n",
      "Requirement already satisfied: contextlib2 in c:\\programdata\\anaconda3\\lib\\site-packages (from azureml-core~=1.19.0->azureml-sdk) (0.6.0.post1)\n",
      "Collecting azure-mgmt-resource<15.0.0,>=1.2.1\n",
      "  Using cached azure_mgmt_resource-12.0.0-py2.py3-none-any.whl (1.1 MB)\n",
      "Requirement already satisfied: python-dateutil>=2.7.3 in c:\\programdata\\anaconda3\\lib\\site-packages (from azureml-core~=1.19.0->azureml-sdk) (2.8.1)\n",
      "Collecting azure-mgmt-keyvault<7.0.0,>=0.40.0\n",
      "  Using cached azure_mgmt_keyvault-2.2.0-py2.py3-none-any.whl (89 kB)\n",
      "Requirement already satisfied: msrest>=0.5.1 in c:\\programdata\\anaconda3\\lib\\site-packages (from azureml-core~=1.19.0->azureml-sdk) (0.6.19)\n",
      "Collecting jsonpickle\n",
      "  Using cached jsonpickle-1.4.2-py2.py3-none-any.whl (36 kB)\n",
      "Requirement already satisfied: PyJWT<2.0.0 in c:\\programdata\\anaconda3\\lib\\site-packages (from azureml-core~=1.19.0->azureml-sdk) (1.7.1)\n",
      "Requirement already satisfied: pyopenssl<20.0.0 in c:\\programdata\\anaconda3\\lib\\site-packages (from azureml-core~=1.19.0->azureml-sdk) (19.1.0)\n",
      "Collecting azure-graphrbac<1.0.0,>=0.40.0\n",
      "  Using cached azure_graphrbac-0.61.1-py2.py3-none-any.whl (141 kB)\n",
      "Requirement already satisfied: azure-common>=1.1.12 in c:\\programdata\\anaconda3\\lib\\site-packages (from azureml-core~=1.19.0->azureml-sdk) (1.1.26)\n",
      "Collecting docker\n",
      "  Using cached docker-4.4.0-py2.py3-none-any.whl (146 kB)\n",
      "Collecting azure-mgmt-storage<16.0.0,>=1.5.0\n",
      "  Using cached azure_mgmt_storage-11.2.0-py2.py3-none-any.whl (547 kB)\n",
      "Requirement already satisfied: msrestazure>=0.4.33 in c:\\programdata\\anaconda3\\lib\\site-packages (from azureml-core~=1.19.0->azureml-sdk) (0.6.4)\n",
      "Requirement already satisfied: cryptography!=1.9,!=2.0.*,!=2.1.*,!=2.2.* in c:\\programdata\\anaconda3\\lib\\site-packages (from azureml-core~=1.19.0->azureml-sdk) (2.9.2)\n",
      "Collecting ndg-httpsclient\n",
      "  Using cached ndg_httpsclient-0.5.1-py3-none-any.whl (34 kB)\n",
      "Requirement already satisfied: requests>=2.19.1 in c:\\programdata\\anaconda3\\lib\\site-packages (from azureml-core~=1.19.0->azureml-sdk) (2.24.0)\n",
      "Collecting SecretStorage\n",
      "  Using cached SecretStorage-3.3.0-py3-none-any.whl (14 kB)\n",
      "Requirement already satisfied: adal>=1.2.0 in c:\\programdata\\anaconda3\\lib\\site-packages (from azureml-core~=1.19.0->azureml-sdk) (1.2.5)\n",
      "Collecting azure-mgmt-authorization<1.0.0,>=0.40.0\n",
      "  Using cached azure_mgmt_authorization-0.61.0-py2.py3-none-any.whl (94 kB)\n",
      "Requirement already satisfied: backports.tempfile in c:\\programdata\\anaconda3\\lib\\site-packages (from azureml-core~=1.19.0->azureml-sdk) (1.0)\n",
      "Requirement already satisfied: urllib3>=1.23 in c:\\programdata\\anaconda3\\lib\\site-packages (from azureml-core~=1.19.0->azureml-sdk) (1.25.9)\n",
      "Requirement already satisfied: pyarrow<2.0.0,>=0.17.0 in c:\\programdata\\anaconda3\\lib\\site-packages (from azureml-dataset-runtime[fuse]~=1.19.0->azureml-sdk) (1.0.1)\n",
      "Requirement already satisfied: azureml-dataprep<2.7.0a,>=2.6.0a in c:\\programdata\\anaconda3\\lib\\site-packages (from azureml-dataset-runtime[fuse]~=1.19.0->azureml-sdk) (2.6.3)\n",
      "Requirement already satisfied: fusepy<4.0.0,>=3.0.1; extra == \"fuse\" in c:\\programdata\\anaconda3\\lib\\site-packages (from azureml-dataset-runtime[fuse]~=1.19.0->azureml-sdk) (3.0.1)\n",
      "Collecting azureml-train-core~=1.19.0\n",
      "  Using cached azureml_train_core-1.19.0-py3-none-any.whl (8.6 MB)\n",
      "Collecting azureml-pipeline-steps~=1.19.0\n",
      "  Using cached azureml_pipeline_steps-1.19.0-py3-none-any.whl (62 kB)\n",
      "Collecting azureml-pipeline-core~=1.19.0\n",
      "  Using cached azureml_pipeline_core-1.19.0-py3-none-any.whl (306 kB)\n",
      "Collecting azureml-telemetry~=1.19.0\n",
      "  Using cached azureml_telemetry-1.19.0-py3-none-any.whl (30 kB)\n",
      "Collecting azureml-automl-core~=1.19.0\n",
      "  Using cached azureml_automl_core-1.19.0-py3-none-any.whl (188 kB)\n",
      "Collecting ruamel.yaml.clib>=0.1.2; platform_python_implementation == \"CPython\" and python_version < \"3.9\"\n",
      "  Using cached ruamel.yaml.clib-0.2.2-cp38-cp38-win_amd64.whl (120 kB)\n",
      "Requirement already satisfied: six>=1.5 in c:\\programdata\\anaconda3\\lib\\site-packages (from python-dateutil>=2.7.3->azureml-core~=1.19.0->azureml-sdk) (1.15.0)\n",
      "Requirement already satisfied: requests-oauthlib>=0.5.0 in c:\\programdata\\anaconda3\\lib\\site-packages (from msrest>=0.5.1->azureml-core~=1.19.0->azureml-sdk) (1.3.0)\n",
      "Requirement already satisfied: isodate>=0.6.0 in c:\\programdata\\anaconda3\\lib\\site-packages (from msrest>=0.5.1->azureml-core~=1.19.0->azureml-sdk) (0.6.0)\n",
      "Requirement already satisfied: certifi>=2017.4.17 in c:\\programdata\\anaconda3\\lib\\site-packages (from msrest>=0.5.1->azureml-core~=1.19.0->azureml-sdk) (2020.6.20)\n",
      "Requirement already satisfied: pywin32==227; sys_platform == \"win32\" in c:\\programdata\\anaconda3\\lib\\site-packages (from docker->azureml-core~=1.19.0->azureml-sdk) (227)\n",
      "Collecting websocket-client>=0.32.0\n",
      "  Using cached websocket_client-0.57.0-py2.py3-none-any.whl (200 kB)\n",
      "Requirement already satisfied: cffi!=1.11.3,>=1.8 in c:\\programdata\\anaconda3\\lib\\site-packages (from cryptography!=1.9,!=2.0.*,!=2.1.*,!=2.2.*->azureml-core~=1.19.0->azureml-sdk) (1.14.0)\n",
      "Collecting pyasn1>=0.1.1\n",
      "  Using cached pyasn1-0.4.8-py2.py3-none-any.whl (77 kB)\n",
      "Requirement already satisfied: idna<3,>=2.5 in c:\\programdata\\anaconda3\\lib\\site-packages (from requests>=2.19.1->azureml-core~=1.19.0->azureml-sdk) (2.10)\n",
      "Requirement already satisfied: chardet<4,>=3.0.2 in c:\\programdata\\anaconda3\\lib\\site-packages (from requests>=2.19.1->azureml-core~=1.19.0->azureml-sdk) (3.0.4)\n",
      "Collecting jeepney>=0.6\n",
      "  Using cached jeepney-0.6.0-py3-none-any.whl (45 kB)\n",
      "Requirement already satisfied: backports.weakref in c:\\programdata\\anaconda3\\lib\\site-packages (from backports.tempfile->azureml-core~=1.19.0->azureml-sdk) (1.0.post1)\n",
      "Requirement already satisfied: numpy>=1.14 in c:\\programdata\\anaconda3\\lib\\site-packages (from pyarrow<2.0.0,>=0.17.0->azureml-dataset-runtime[fuse]~=1.19.0->azureml-sdk) (1.18.5)\n",
      "Requirement already satisfied: dotnetcore2<3.0.0,>=2.1.14 in c:\\programdata\\anaconda3\\lib\\site-packages (from azureml-dataprep<2.7.0a,>=2.6.0a->azureml-dataset-runtime[fuse]~=1.19.0->azureml-sdk) (2.1.20)\n",
      "Requirement already satisfied: azureml-dataprep-rslex<1.5.0a,>=1.4.0dev0 in c:\\programdata\\anaconda3\\lib\\site-packages (from azureml-dataprep<2.7.0a,>=2.6.0a->azureml-dataset-runtime[fuse]~=1.19.0->azureml-sdk) (1.4.0)\n",
      "Requirement already satisfied: azureml-dataprep-native<27.0.0,>=26.0.0 in c:\\programdata\\anaconda3\\lib\\site-packages (from azureml-dataprep<2.7.0a,>=2.6.0a->azureml-dataset-runtime[fuse]~=1.19.0->azureml-sdk) (26.0.0)\n",
      "Requirement already satisfied: azure-identity<1.5.0,>=1.2.0 in c:\\programdata\\anaconda3\\lib\\site-packages (from azureml-dataprep<2.7.0a,>=2.6.0a->azureml-dataset-runtime[fuse]~=1.19.0->azureml-sdk) (1.4.1)\n",
      "Requirement already satisfied: cloudpickle<2.0.0,>=1.1.0 in c:\\programdata\\anaconda3\\lib\\site-packages (from azureml-dataprep<2.7.0a,>=2.6.0a->azureml-dataset-runtime[fuse]~=1.19.0->azureml-sdk) (1.5.0)\n",
      "Collecting azureml-train-restclients-hyperdrive~=1.19.0\n",
      "  Using cached azureml_train_restclients_hyperdrive-1.19.0-py3-none-any.whl (19 kB)\n",
      "Collecting applicationinsights\n",
      "  Using cached applicationinsights-0.11.9-py2.py3-none-any.whl (58 kB)\n",
      "Requirement already satisfied: oauthlib>=3.0.0 in c:\\programdata\\anaconda3\\lib\\site-packages (from requests-oauthlib>=0.5.0->msrest>=0.5.1->azureml-core~=1.19.0->azureml-sdk) (3.1.0)\n",
      "Requirement already satisfied: pycparser in c:\\programdata\\anaconda3\\lib\\site-packages (from cffi!=1.11.3,>=1.8->cryptography!=1.9,!=2.0.*,!=2.1.*,!=2.2.*->azureml-core~=1.19.0->azureml-sdk) (2.20)\n",
      "Requirement already satisfied: distro>=1.2.0 in c:\\programdata\\anaconda3\\lib\\site-packages (from dotnetcore2<3.0.0,>=2.1.14->azureml-dataprep<2.7.0a,>=2.6.0a->azureml-dataset-runtime[fuse]~=1.19.0->azureml-sdk) (1.5.0)\n",
      "Requirement already satisfied: msal<2.0.0,>=1.3.0 in c:\\programdata\\anaconda3\\lib\\site-packages (from azure-identity<1.5.0,>=1.2.0->azureml-dataprep<2.7.0a,>=2.6.0a->azureml-dataset-runtime[fuse]~=1.19.0->azureml-sdk) (1.8.0)\n",
      "Requirement already satisfied: azure-core<2.0.0,>=1.0.0 in c:\\programdata\\anaconda3\\lib\\site-packages (from azure-identity<1.5.0,>=1.2.0->azureml-dataprep<2.7.0a,>=2.6.0a->azureml-dataset-runtime[fuse]~=1.19.0->azureml-sdk) (1.9.0)\n",
      "Requirement already satisfied: msal-extensions~=0.2.2 in c:\\programdata\\anaconda3\\lib\\site-packages (from azure-identity<1.5.0,>=1.2.0->azureml-dataprep<2.7.0a,>=2.6.0a->azureml-dataset-runtime[fuse]~=1.19.0->azureml-sdk) (0.2.2)\n",
      "Requirement already satisfied: portalocker~=1.6; platform_system == \"Windows\" in c:\\programdata\\anaconda3\\lib\\site-packages (from msal-extensions~=0.2.2->azure-identity<1.5.0,>=1.2.0->azureml-dataprep<2.7.0a,>=2.6.0a->azureml-dataset-runtime[fuse]~=1.19.0->azureml-sdk) (1.7.1)\n",
      "Installing collected packages: jmespath, azure-mgmt-containerregistry, ruamel.yaml.clib, ruamel.yaml, pathspec, azure-mgmt-resource, azure-mgmt-keyvault, jsonpickle, azure-graphrbac, websocket-client, docker, azure-mgmt-storage, pyasn1, ndg-httpsclient, jeepney, SecretStorage, azure-mgmt-authorization, azureml-core, azureml-dataset-runtime, applicationinsights, azureml-telemetry, azureml-train-restclients-hyperdrive, azureml-train-core, azureml-train, azureml-pipeline-core, azureml-automl-core, azureml-train-automl-client, azureml-pipeline-steps, azureml-pipeline, azureml-sdk\n",
      "Successfully installed SecretStorage-3.3.0 applicationinsights-0.11.9 azure-graphrbac-0.61.1 azure-mgmt-authorization-0.61.0 azure-mgmt-containerregistry-2.8.0 azure-mgmt-keyvault-2.2.0 azure-mgmt-resource-12.0.0 azure-mgmt-storage-11.2.0 azureml-automl-core-1.19.0 azureml-core-1.19.0 azureml-dataset-runtime-1.19.0 azureml-pipeline-1.19.0 azureml-pipeline-core-1.19.0 azureml-pipeline-steps-1.19.0 azureml-sdk-1.19.0 azureml-telemetry-1.19.0 azureml-train-1.19.0 azureml-train-automl-client-1.19.0 azureml-train-core-1.19.0 azureml-train-restclients-hyperdrive-1.19.0 docker-4.4.0 jeepney-0.6.0 jmespath-0.10.0 jsonpickle-1.4.2 ndg-httpsclient-0.5.1 pathspec-0.8.1 pyasn1-0.4.8 ruamel.yaml-0.16.12 ruamel.yaml.clib-0.2.2 websocket-client-0.57.0\n"
     ]
    }
   ],
   "source": [
    "!pip install azureml-sdk"
   ]
  },
  {
   "cell_type": "code",
   "execution_count": 7,
   "metadata": {},
   "outputs": [
    {
     "output_type": "stream",
     "name": "stdout",
     "text": [
      "Performing interactive authentication. Please follow the instructions on the terminal.\n",
      "Note, we have launched a browser for you to login. For old experience with device code, use \"az login --use-device-code\"\n",
      "You have logged in. Now let us find all the subscriptions to which you have access...\n",
      "Interactive authentication successfully completed.\n",
      "Ready to use Azure ML 1.19.0 to work with dp100-WS\n"
     ]
    }
   ],
   "source": [
    "import azureml.core\n",
    "from azureml.core import Workspace\n",
    "\n",
    "# Load the workspace from the saved config file\n",
    "ws = Workspace.from_config('config.json')\n",
    "print('Ready to use Azure ML {} to work with {}'.format(azureml.core.VERSION, ws.name))"
   ]
  },
  {
   "cell_type": "code",
   "execution_count": 14,
   "metadata": {},
   "outputs": [
    {
     "output_type": "stream",
     "name": "stdout",
     "text": [
      "azureml_globaldatasets - Default = False\nworkspaceblobstore - Default = True\nworkspacefilestore - Default = False\n"
     ]
    }
   ],
   "source": [
    "# Get the default datastore\n",
    "default_ds = ws.get_default_datastore()\n",
    "\n",
    "# Enumerate all datastores, indicating which is the default\n",
    "for ds_name in ws.datastores:\n",
    "    print(ds_name, \"- Default =\", ds_name == default_ds.name)"
   ]
  },
  {
   "cell_type": "code",
   "execution_count": 4,
   "metadata": {},
   "outputs": [
    {
     "output_type": "stream",
     "name": "stdout",
     "text": [
      "kaggle.json  t-e70fc5cb-a0cf-4f61-b8ac-8921b884916f.ipynb  Users\n"
     ]
    }
   ],
   "source": [
    "!dir"
   ]
  },
  {
   "cell_type": "code",
   "execution_count": 16,
   "metadata": {},
   "outputs": [
    {
     "output_type": "error",
     "ename": "KeyboardInterrupt",
     "evalue": "",
     "traceback": [
      "\u001b[1;31m---------------------------------------------------------------------------\u001b[0m",
      "\u001b[1;31mKeyboardInterrupt\u001b[0m                         Traceback (most recent call last)",
      "\u001b[1;32m<ipython-input-16-2d453eede0c0>\u001b[0m in \u001b[0;36m<module>\u001b[1;34m\u001b[0m\n\u001b[0;32m      1\u001b[0m \u001b[0mbreakpoint\u001b[0m\u001b[1;33m(\u001b[0m\u001b[1;33m)\u001b[0m\u001b[1;33m\u001b[0m\u001b[1;33m\u001b[0m\u001b[0m\n\u001b[1;32m----> 2\u001b[1;33m \u001b[1;32mfrom\u001b[0m \u001b[0mazureml\u001b[0m\u001b[1;33m.\u001b[0m\u001b[0mcore\u001b[0m \u001b[1;32mimport\u001b[0m \u001b[0mDataset\u001b[0m\u001b[1;33m\u001b[0m\u001b[1;33m\u001b[0m\u001b[0m\n\u001b[0m\u001b[0;32m      3\u001b[0m \u001b[1;33m\u001b[0m\u001b[0m\n\u001b[0;32m      4\u001b[0m \u001b[1;31m# Get the default datastore\u001b[0m\u001b[1;33m\u001b[0m\u001b[1;33m\u001b[0m\u001b[1;33m\u001b[0m\u001b[0m\n\u001b[0;32m      5\u001b[0m \u001b[0mdefault_ds\u001b[0m \u001b[1;33m=\u001b[0m \u001b[0mws\u001b[0m\u001b[1;33m.\u001b[0m\u001b[0mget_default_datastore\u001b[0m\u001b[1;33m(\u001b[0m\u001b[1;33m)\u001b[0m\u001b[1;33m\u001b[0m\u001b[1;33m\u001b[0m\u001b[0m\n",
      "\u001b[1;32m<ipython-input-16-2d453eede0c0>\u001b[0m in \u001b[0;36m<module>\u001b[1;34m\u001b[0m\n\u001b[0;32m      1\u001b[0m \u001b[0mbreakpoint\u001b[0m\u001b[1;33m(\u001b[0m\u001b[1;33m)\u001b[0m\u001b[1;33m\u001b[0m\u001b[1;33m\u001b[0m\u001b[0m\n\u001b[1;32m----> 2\u001b[1;33m \u001b[1;32mfrom\u001b[0m \u001b[0mazureml\u001b[0m\u001b[1;33m.\u001b[0m\u001b[0mcore\u001b[0m \u001b[1;32mimport\u001b[0m \u001b[0mDataset\u001b[0m\u001b[1;33m\u001b[0m\u001b[1;33m\u001b[0m\u001b[0m\n\u001b[0m\u001b[0;32m      3\u001b[0m \u001b[1;33m\u001b[0m\u001b[0m\n\u001b[0;32m      4\u001b[0m \u001b[1;31m# Get the default datastore\u001b[0m\u001b[1;33m\u001b[0m\u001b[1;33m\u001b[0m\u001b[1;33m\u001b[0m\u001b[0m\n\u001b[0;32m      5\u001b[0m \u001b[0mdefault_ds\u001b[0m \u001b[1;33m=\u001b[0m \u001b[0mws\u001b[0m\u001b[1;33m.\u001b[0m\u001b[0mget_default_datastore\u001b[0m\u001b[1;33m(\u001b[0m\u001b[1;33m)\u001b[0m\u001b[1;33m\u001b[0m\u001b[1;33m\u001b[0m\u001b[0m\n",
      "\u001b[1;32m_pydevd_bundle/pydevd_cython.pyx\u001b[0m in \u001b[0;36m_pydevd_bundle.pydevd_cython.SafeCallWrapper.__call__\u001b[1;34m()\u001b[0m\n",
      "\u001b[1;32m_pydevd_bundle/pydevd_cython.pyx\u001b[0m in \u001b[0;36m_pydevd_bundle.pydevd_cython.PyDBFrame.trace_dispatch\u001b[1;34m()\u001b[0m\n",
      "\u001b[1;32m_pydevd_bundle/pydevd_cython.pyx\u001b[0m in \u001b[0;36m_pydevd_bundle.pydevd_cython.PyDBFrame.trace_dispatch\u001b[1;34m()\u001b[0m\n",
      "\u001b[1;32m_pydevd_bundle/pydevd_cython.pyx\u001b[0m in \u001b[0;36m_pydevd_bundle.pydevd_cython.PyDBFrame.trace_dispatch\u001b[1;34m()\u001b[0m\n",
      "\u001b[1;32m_pydevd_bundle/pydevd_cython.pyx\u001b[0m in \u001b[0;36m_pydevd_bundle.pydevd_cython.PyDBFrame.do_wait_suspend\u001b[1;34m()\u001b[0m\n",
      "\u001b[1;32mc:\\Users\\kelvi\\.vscode\\extensions\\ms-python.python-2020.12.424452561\\pythonFiles\\lib\\python\\debugpy\\_vendored\\pydevd\\pydevd.py\u001b[0m in \u001b[0;36mdo_wait_suspend\u001b[1;34m(self, thread, frame, event, arg, exception_type)\u001b[0m\n\u001b[0;32m   1853\u001b[0m \u001b[1;33m\u001b[0m\u001b[0m\n\u001b[0;32m   1854\u001b[0m             \u001b[1;32mwith\u001b[0m \u001b[0mself\u001b[0m\u001b[1;33m.\u001b[0m\u001b[0m_threads_suspended_single_notification\u001b[0m\u001b[1;33m.\u001b[0m\u001b[0mnotify_thread_suspended\u001b[0m\u001b[1;33m(\u001b[0m\u001b[0mthread_id\u001b[0m\u001b[1;33m,\u001b[0m \u001b[0mstop_reason\u001b[0m\u001b[1;33m)\u001b[0m\u001b[1;33m:\u001b[0m\u001b[1;33m\u001b[0m\u001b[1;33m\u001b[0m\u001b[0m\n\u001b[1;32m-> 1855\u001b[1;33m                 \u001b[0mkeep_suspended\u001b[0m \u001b[1;33m=\u001b[0m \u001b[0mself\u001b[0m\u001b[1;33m.\u001b[0m\u001b[0m_do_wait_suspend\u001b[0m\u001b[1;33m(\u001b[0m\u001b[0mthread\u001b[0m\u001b[1;33m,\u001b[0m \u001b[0mframe\u001b[0m\u001b[1;33m,\u001b[0m \u001b[0mevent\u001b[0m\u001b[1;33m,\u001b[0m \u001b[0marg\u001b[0m\u001b[1;33m,\u001b[0m \u001b[0msuspend_type\u001b[0m\u001b[1;33m,\u001b[0m \u001b[0mfrom_this_thread\u001b[0m\u001b[1;33m,\u001b[0m \u001b[0mframes_tracker\u001b[0m\u001b[1;33m)\u001b[0m\u001b[1;33m\u001b[0m\u001b[1;33m\u001b[0m\u001b[0m\n\u001b[0m\u001b[0;32m   1856\u001b[0m \u001b[1;33m\u001b[0m\u001b[0m\n\u001b[0;32m   1857\u001b[0m         \u001b[0mframes_list\u001b[0m \u001b[1;33m=\u001b[0m \u001b[1;32mNone\u001b[0m\u001b[1;33m\u001b[0m\u001b[1;33m\u001b[0m\u001b[0m\n",
      "\u001b[1;32mc:\\Users\\kelvi\\.vscode\\extensions\\ms-python.python-2020.12.424452561\\pythonFiles\\lib\\python\\debugpy\\_vendored\\pydevd\\pydevd.py\u001b[0m in \u001b[0;36m_do_wait_suspend\u001b[1;34m(self, thread, frame, event, arg, suspend_type, from_this_thread, frames_tracker)\u001b[0m\n\u001b[0;32m   1888\u001b[0m \u001b[1;33m\u001b[0m\u001b[0m\n\u001b[0;32m   1889\u001b[0m             \u001b[0mself\u001b[0m\u001b[1;33m.\u001b[0m\u001b[0mprocess_internal_commands\u001b[0m\u001b[1;33m(\u001b[0m\u001b[1;33m)\u001b[0m\u001b[1;33m\u001b[0m\u001b[1;33m\u001b[0m\u001b[0m\n\u001b[1;32m-> 1890\u001b[1;33m             \u001b[0mtime\u001b[0m\u001b[1;33m.\u001b[0m\u001b[0msleep\u001b[0m\u001b[1;33m(\u001b[0m\u001b[1;36m0.01\u001b[0m\u001b[1;33m)\u001b[0m\u001b[1;33m\u001b[0m\u001b[1;33m\u001b[0m\u001b[0m\n\u001b[0m\u001b[0;32m   1891\u001b[0m \u001b[1;33m\u001b[0m\u001b[0m\n\u001b[0;32m   1892\u001b[0m         \u001b[0mself\u001b[0m\u001b[1;33m.\u001b[0m\u001b[0mcancel_async_evaluation\u001b[0m\u001b[1;33m(\u001b[0m\u001b[0mget_current_thread_id\u001b[0m\u001b[1;33m(\u001b[0m\u001b[0mthread\u001b[0m\u001b[1;33m)\u001b[0m\u001b[1;33m,\u001b[0m \u001b[0mstr\u001b[0m\u001b[1;33m(\u001b[0m\u001b[0mid\u001b[0m\u001b[1;33m(\u001b[0m\u001b[0mframe\u001b[0m\u001b[1;33m)\u001b[0m\u001b[1;33m)\u001b[0m\u001b[1;33m)\u001b[0m\u001b[1;33m\u001b[0m\u001b[1;33m\u001b[0m\u001b[0m\n",
      "\u001b[1;31mKeyboardInterrupt\u001b[0m: "
     ]
    }
   ],
   "source": [
    "from azureml.core import Dataset\n",
    "\n",
    "# Get the default datastore\n",
    "default_ds = ws.get_default_datastore()\n",
    "\n",
    "#Create a tabular dataset from the path on the datastore (this may take a short while)\n",
    "tab_data_set = Dataset.Tabular.from_delimited_files(path=(default_ds, 'C:/Users/kelvi/OneDrive/Documents/Data Projects/Data/installments_payments.csv'))\n",
    "\n",
    "# Display the first 20 rows as a Pandas dataframe\n",
    "tab_data_set.take(20).to_pandas_dataframe()"
   ]
  },
  {
   "cell_type": "code",
   "execution_count": null,
   "metadata": {},
   "outputs": [],
   "source": []
  }
 ]
}